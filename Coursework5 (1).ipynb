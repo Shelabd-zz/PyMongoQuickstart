{
 "cells": [
  {
   "cell_type": "markdown",
   "metadata": {},
   "source": [
    "# CST 4070 : Coursework 5\n",
    "## NOSQL with MongoDB & PyMongo\n",
    "### By: Sherif El Abd M00737821"
   ]
  },
  {
   "cell_type": "markdown",
   "metadata": {},
   "source": [
    "## Task 1: Insert students.json into MongoDB"
   ]
  },
  {
   "cell_type": "code",
   "execution_count": 37,
   "metadata": {},
   "outputs": [],
   "source": [
    "# importing the Mongo libraries to start connecting to my Mongo DB server\n",
    "import json\n",
    "from pymongo import MongoClient\n",
    "\n",
    "#connecting to the Mongo DB running local host on port 27017\n",
    "client = MongoClient('localhost', 27017)\n",
    "db = client['SherifTask1'] #Assigning the database for the queries to be created\n",
    "collection_students = db['Students'] #Assgining the correct collection to be created \n",
    "json_string = \"\"\n",
    "\n",
    "\n",
    "#the following loop is to read in the json file one line at a time and write to the collection on Mongo\n",
    "with open('students.json') as data_file:\n",
    "    for record in data_file:\n",
    "        data_json = json.loads(record)\n",
    "        collection_students.insert_one(data_json)\n",
    "\n",
    "client.close()"
   ]
  },
  {
   "cell_type": "markdown",
   "metadata": {},
   "source": [
    "## Task 2: Query all students who recieved above 60"
   ]
  },
  {
   "cell_type": "code",
   "execution_count": 437,
   "metadata": {},
   "outputs": [
    {
     "name": "stdout",
     "output_type": "stream",
     "text": [
      "{'_id': 1, 'name': 'Aurelia Menendez'}\n",
      "{'_id': 2, 'name': 'Corliss Zuk'}\n",
      "{'_id': 3, 'name': 'Bao Ziglar'}\n",
      "{'_id': 4, 'name': 'Zachary Langlais'}\n",
      "{'_id': 7, 'name': 'Salena Olmos'}\n",
      "{'_id': 9, 'name': 'Sanda Ryba'}\n",
      "{'_id': 11, 'name': 'Marcus Blohm'}\n",
      "{'_id': 13, 'name': 'Jessika Dagenais'}\n",
      "{'_id': 15, 'name': 'Tambra Mercure'}\n",
      "{'_id': 18, 'name': 'Verdell Sowinski'}\n",
      "{'_id': 22, 'name': 'Margart Vitello'}\n",
      "{'_id': 24, 'name': 'Jesusa Rickenbacker'}\n",
      "{'_id': 25, 'name': 'Rudolph Domingo'}\n",
      "{'_id': 32, 'name': 'Gwen Honig'}\n",
      "{'_id': 33, 'name': 'Sadie Jernigan'}\n",
      "{'_id': 36, 'name': 'Eugene Magdaleno'}\n",
      "{'_id': 37, 'name': 'Meagan Oakes'}\n",
      "{'_id': 40, 'name': 'Rachell Aman'}\n",
      "{'_id': 44, 'name': 'Houston Valenti'}\n",
      "{'_id': 47, 'name': 'Kurtis Jiles'}\n",
      "{'_id': 49, 'name': 'Dinah Sauve'}\n",
      "{'_id': 51, 'name': 'Elizabet Kleine'}\n",
      "{'_id': 52, 'name': 'Tawana Oberg'}\n",
      "{'_id': 54, 'name': 'Joel Rueter'}\n",
      "{'_id': 55, 'name': 'Tresa Sinha'}\n",
      "{'_id': 59, 'name': 'Vinnie Auerbach'}\n",
      "{'_id': 64, 'name': 'Whitley Fears'}\n",
      "{'_id': 65, 'name': 'Gena Riccio'}\n",
      "{'_id': 67, 'name': 'Merissa Mann'}\n",
      "{'_id': 71, 'name': 'Kam Senters'}\n",
      "{'_id': 72, 'name': 'Leonida Lafond'}\n",
      "{'_id': 73, 'name': 'Devorah Smartt'}\n",
      "{'_id': 75, 'name': 'Tonia Surace'}\n",
      "{'_id': 79, 'name': 'Mariela Sherer'}\n",
      "{'_id': 81, 'name': 'Linnie Weigel'}\n",
      "{'_id': 84, 'name': 'Timothy Harrod'}\n",
      "{'_id': 85, 'name': 'Rae Kohout'}\n",
      "{'_id': 88, 'name': 'Keesha Papadopoulos'}\n",
      "{'_id': 90, 'name': 'Osvaldo Hirt'}\n",
      "{'_id': 96, 'name': 'Milan Mcgavock'}\n",
      "{'_id': 97, 'name': 'Maren Scheider'}\n",
      "{'_id': 98, 'name': 'Carli Ector'}\n",
      "{'_id': 99, 'name': 'Jaclyn Morado'}\n",
      "{'_id': 103, 'name': 'Fleta Duplantis'}\n",
      "{'_id': 104, 'name': 'Brittny Warwick'}\n",
      "{'_id': 105, 'name': 'Shin Allbright'}\n",
      "{'_id': 107, 'name': 'Beckie Millington'}\n",
      "{'_id': 108, 'name': 'Mikaela Meidinger'}\n",
      "{'_id': 110, 'name': 'Nobuko Linzey'}\n",
      "{'_id': 111, 'name': 'Gennie Ratner'}\n",
      "{'_id': 112, 'name': 'Myrtle Wolfinger'}\n",
      "{'_id': 113, 'name': ''}\n",
      "{'_id': 116, 'name': 'Corliss Zuk'}\n",
      "{'_id': 118, 'name': 'Zachary Langlais'}\n",
      "{'_id': 122, 'name': 'Daphne Zheng'}\n",
      "{'_id': 125, 'name': 'Marcus Blohm'}\n",
      "{'_id': 127, 'name': 'Jessika Dagenais'}\n",
      "{'_id': 129, 'name': 'Tambra Mercure'}\n",
      "{'_id': 136, 'name': 'Margart Vitello'}\n",
      "{'_id': 141, 'name': 'Edgar Sarkis'}\n",
      "{'_id': 148, 'name': 'Carli Belvins'}\n",
      "{'_id': 150, 'name': 'Eugene Magdaleno'}\n",
      "{'_id': 151, 'name': 'Meagan Oakes'}\n",
      "{'_id': 153, 'name': 'Mariette Batdorf'}\n",
      "{'_id': 154, 'name': 'Rachell Aman'}\n",
      "{'_id': 158, 'name': 'Houston Valenti'}\n",
      "{'_id': 159, 'name': 'Terica Brugger'}\n",
      "{'_id': 160, 'name': 'Lady Lefevers'}\n",
      "{'_id': 166, 'name': 'Tawana Oberg'}\n",
      "{'_id': 170, 'name': 'Danika Loeffler'}\n",
      "{'_id': 171, 'name': 'Chad Rahe'}\n",
      "{'_id': 174, 'name': 'Dusti Lemmond'}\n",
      "{'_id': 176, 'name': 'Vina Matsunaga'}\n",
      "{'_id': 179, 'name': 'Gena Riccio'}\n",
      "{'_id': 182, 'name': 'Jenise Mcguffie'}\n",
      "{'_id': 188, 'name': 'Leola Lundin'}\n",
      "{'_id': 189, 'name': 'Tonia Surace'}\n",
      "{'_id': 190, 'name': 'Adrien Renda'}\n",
      "{'_id': 191, 'name': 'Efrain Claw'}\n",
      "{'_id': 199, 'name': 'Rae Kohout'}\n"
     ]
    }
   ],
   "source": [
    "#Instatiate a Mongodb client and connect to the correct Database from Task one and the Students Collection \n",
    "# I renamed the Colelction Variable to SherifTask2Collection for the Coursework purposes\n",
    "\n",
    "myclient = pymongo.MongoClient(\"mongodb://localhost:27017/\")\n",
    "mydb = myclient[\"SherifTask1\"]\n",
    "SherifTask2Collection = mydb[\"Students\"]\n",
    "\n",
    "#Queried all students who recived above 60 in the 'Exam' score with the .0. index \n",
    "mydoc = SherifTask2Collection.find({\"scores.0.score\":{'$gt':60}},{\"_id\":1,\"name\":1})\n",
    "\n",
    "for x in mydoc:\n",
    "  print(x)\n",
    "\n"
   ]
  },
  {
   "cell_type": "markdown",
   "metadata": {},
   "source": [
    "## Task 3: Min Max score of last 5 students"
   ]
  },
  {
   "cell_type": "code",
   "execution_count": 387,
   "metadata": {},
   "outputs": [
    {
     "name": "stdout",
     "output_type": "stream",
     "text": [
      "{'_id': 199, 'student': 'Rae Kohout', 'Max': 82.11742562118049, 'Min': 28.86823689842918}\n",
      "{'_id': 198, 'student': 'Timothy Harrod', 'Max': 64.85650354990375, 'Min': 11.9075674046519}\n",
      "{'_id': 197, 'student': 'Tonisha Games', 'Max': 79.15856355963004, 'Min': 31.16287577231703}\n",
      "{'_id': 196, 'student': 'Santiago Dollins', 'Max': 78.79257377604428, 'Min': 33.63300076481705}\n",
      "{'_id': 195, 'student': 'Linnie Weigel', 'Max': 90.7775054046383, 'Min': 11.75008382913026}\n"
     ]
    }
   ],
   "source": [
    "#instantiate the Datbase variable and connect to the correct Datbase\n",
    "mydb = myclient[\"SherifTask1\"]\n",
    "\n",
    "#Instatiate the Colelction variable and connect to the students collection\n",
    "SherifTask3Collection = mydb[\"Students\"]\n",
    "\n",
    "#Used the aggregate methiode and the Project function to write the Student, Max and Min using the MAx and Min functions, limited to 5 records and ordered in descending order\n",
    "mydoc = SherifTask3Collection.aggregate([{\"$project\":{\"student\": \"$name\", \"Max\": {\"$max\": \"$scores.score\"}, \"Min\":{\"$min\":\"$scores.score\"}}}, { \"$sort\" : { \"_id\" : -1} }, {\"$limit\": 5} ])\n",
    "for x in mydoc:\n",
    "  print(x)"
   ]
  },
  {
   "cell_type": "markdown",
   "metadata": {},
   "source": [
    "## Task 4: Visualize the frequency distribution "
   ]
  },
  {
   "cell_type": "code",
   "execution_count": 438,
   "metadata": {},
   "outputs": [
    {
     "data": {
      "text/html": [
       "<div>\n",
       "<style scoped>\n",
       "    .dataframe tbody tr th:only-of-type {\n",
       "        vertical-align: middle;\n",
       "    }\n",
       "\n",
       "    .dataframe tbody tr th {\n",
       "        vertical-align: top;\n",
       "    }\n",
       "\n",
       "    .dataframe thead th {\n",
       "        text-align: right;\n",
       "    }\n",
       "</style>\n",
       "<table border=\"1\" class=\"dataframe\">\n",
       "  <thead>\n",
       "    <tr style=\"text-align: right;\">\n",
       "      <th></th>\n",
       "      <th>_id</th>\n",
       "      <th>name</th>\n",
       "      <th>averageScore</th>\n",
       "    </tr>\n",
       "  </thead>\n",
       "  <tbody>\n",
       "    <tr>\n",
       "      <th>0</th>\n",
       "      <td>0</td>\n",
       "      <td>aimee Zank</td>\n",
       "      <td>16.373316</td>\n",
       "    </tr>\n",
       "    <tr>\n",
       "      <th>1</th>\n",
       "      <td>1</td>\n",
       "      <td>Aurelia Menendez</td>\n",
       "      <td>61.539897</td>\n",
       "    </tr>\n",
       "    <tr>\n",
       "      <th>2</th>\n",
       "      <td>2</td>\n",
       "      <td>Corliss Zuk</td>\n",
       "      <td>46.538690</td>\n",
       "    </tr>\n",
       "    <tr>\n",
       "      <th>3</th>\n",
       "      <td>3</td>\n",
       "      <td>Bao Ziglar</td>\n",
       "      <td>46.235708</td>\n",
       "    </tr>\n",
       "    <tr>\n",
       "      <th>4</th>\n",
       "      <td>4</td>\n",
       "      <td>Zachary Langlais</td>\n",
       "      <td>67.798788</td>\n",
       "    </tr>\n",
       "  </tbody>\n",
       "</table>\n",
       "</div>"
      ],
      "text/plain": [
       "   _id              name  averageScore\n",
       "0    0        aimee Zank     16.373316\n",
       "1    1  Aurelia Menendez     61.539897\n",
       "2    2       Corliss Zuk     46.538690\n",
       "3    3        Bao Ziglar     46.235708\n",
       "4    4  Zachary Langlais     67.798788"
      ]
     },
     "execution_count": 438,
     "metadata": {},
     "output_type": "execute_result"
    }
   ],
   "source": [
    "import pandas as pd\n",
    "import numpy as np\n",
    "import seaborn as sns\n",
    "import matplotlib.pyplot as plt\n",
    "from scipy import stats\n",
    "from pymongo import MongoClient\n",
    "\n",
    "#Instatiate the DB variable and the Colelction variable and connect to the correct DB and Collection  \n",
    "\n",
    "myclient = pymongo.MongoClient(\"mongodb://localhost:27017/\")\n",
    "mydb = myclient[\"SherifTask1\"]\n",
    "SherifTask4Collection = mydb[\"Students\"]\n",
    "\n",
    "# USed the aggregate function to unwind the deep json scores \n",
    "cursor = SherifTask3Collection.aggregate([\n",
    "#   // First Stage used unwind to open the scores \n",
    "  { \"$unwind\": \"$scores\" },\n",
    "\n",
    "#   // Second Stage used the group function to group by ID and write the name and compute the Average score\n",
    "  {\n",
    "    \"$group\":\n",
    "      {\n",
    "        \"_id\": \"$_id\",\n",
    "        \"name\": { \"$first\": \"$name\"},\n",
    "        \"averageScore\":\n",
    "          {\n",
    "            \"$avg\": \"$scores.score\"\n",
    "          }\n",
    "        \n",
    "      }\n",
    "  },\n",
    "   {\"$sort\":{\"_id\": 1}} \n",
    "])\n",
    "\n",
    "\n",
    "# Expanded the cursor and wrote to Pandas Dataframe\n",
    "df =  pd.DataFrame(list(cursor))\n",
    "df.head()\n",
    "\n"
   ]
  },
  {
   "cell_type": "code",
   "execution_count": 413,
   "metadata": {},
   "outputs": [
    {
     "data": {
      "text/plain": [
       "array([[<matplotlib.axes._subplots.AxesSubplot object at 0x7fe5cf185290>]],\n",
       "      dtype=object)"
      ]
     },
     "execution_count": 413,
     "metadata": {},
     "output_type": "execute_result"
    },
    {
     "data": {
      "image/png": "[encoded data removed]",
      "text/plain": [
       "<Figure size 432x288 with 1 Axes>"
      ]
     },
     "metadata": {
      "needs_background": "light"
     },
     "output_type": "display_data"
    }
   ],
   "source": [
    "df.hist(column='averageScore')\n"
   ]
  },
  {
   "cell_type": "code",
   "execution_count": 440,
   "metadata": {},
   "outputs": [
    {
     "data": {
      "text/plain": [
       "(114, 3)"
      ]
     },
     "execution_count": 440,
     "metadata": {},
     "output_type": "execute_result"
    }
   ],
   "source": [
    "cursor = SherifTask3Collection.aggregate([\n",
    "#   // First Stage\n",
    "  { \"$unwind\": \"$scores\" },\n",
    "\n",
    "#   // Second Stage\n",
    "  {\n",
    "    \"$group\":\n",
    "      {\n",
    "        \"_id\": \"$name\",\n",
    "        \"Id\": { \"$first\": \"$_id\"},\n",
    "        \"averageScore\":\n",
    "          {\n",
    "            \"$avg\": \"$scores.score\"\n",
    "          }\n",
    "        \n",
    "      }\n",
    "  },\n",
    "   {\"$sort\":{\"_id\": -1}} \n",
    "])\n",
    "\n",
    "# Expand the cursor and construct the DataFrame\n",
    "df =  pd.DataFrame(list(cursor))\n",
    "df.shape"
   ]
  },
  {
   "cell_type": "code",
   "execution_count": 436,
   "metadata": {},
   "outputs": [
    {
     "data": {
      "text/plain": [
       "array([[<matplotlib.axes._subplots.AxesSubplot object at 0x7fe5ce6af150>]],\n",
       "      dtype=object)"
      ]
     },
     "execution_count": 436,
     "metadata": {},
     "output_type": "execute_result"
    },
    {
     "data": {
      "image/png": "[encoded data removed]",
      "text/plain": [
       "<Figure size 432x288 with 1 Axes>"
      ]
     },
     "metadata": {
      "needs_background": "light"
     },
     "output_type": "display_data"
    }
   ],
   "source": [
    "df.hist(column='averageScore')"
   ]
  },
  {
   "cell_type": "markdown",
   "metadata": {},
   "source": [
    "## Task 5 Write to csv "
   ]
  },
  {
   "cell_type": "code",
   "execution_count": 427,
   "metadata": {},
   "outputs": [],
   "source": [
    "\n",
    "myclient = pymongo.MongoClient(\"mongodb://localhost:27017/\")\n",
    "mydb = myclient[\"SherifTask1\"]\n",
    "SherifTask4Collection = mydb[\"Students\"]\n",
    "\n",
    "# Make a query to the specific DB and Collection\n",
    "cursor = SherifTask3Collection.aggregate([\n",
    "#   // First Stage\n",
    "  { \"$unwind\": \"$scores\" },\n",
    "\n",
    "#   // Second Stage\n",
    "  {\n",
    "    \"$group\":\n",
    "      {\n",
    "        \"_id\": \"$_id\",\n",
    "        \"name\": { \"$first\": \"$name\"},\n",
    "        \"averageScore\":\n",
    "          {\n",
    "            \"$avg\": \"$scores.score\"\n",
    "          }\n",
    "        \n",
    "      }\n",
    "  },\n",
    "   {\"$sort\":{\"_id\": 1}} \n",
    "])\n",
    "\n",
    "# Expand the cursor and construct the DataFrame\n",
    "df =  pd.DataFrame(list(cursor))\n",
    "df.to_csv(\"SherifTask5.csv\", \",\",index=0)"
   ]
  },
  {
   "cell_type": "code",
   "execution_count": null,
   "metadata": {},
   "outputs": [],
   "source": []
  }
 ],
 "metadata": {
  "kernelspec": {
   "display_name": "Python 3.7 - Spark (local)",
   "language": "python",
   "name": "spark-3-python"
  },
  "language_info": {
   "codemirror_mode": {
    "name": "ipython",
    "version": 3
   },
   "file_extension": ".py",
   "mimetype": "text/x-python",
   "name": "python",
   "nbconvert_exporter": "python",
   "pygments_lexer": "ipython3",
   "version": "3.7.6"
  }
 },
 "nbformat": 4,
 "nbformat_minor": 4
}
